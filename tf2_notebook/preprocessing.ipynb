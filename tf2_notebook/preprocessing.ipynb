{
 "cells": [
  {
   "cell_type": "code",
   "execution_count": 1,
   "metadata": {},
   "outputs": [],
   "source": [
    "import json\n",
    "import glob\n",
    "from pathlib import Path\n",
    "\n",
    "import numpy as np\n",
    "import pandas as pd\n",
    "\n",
    "from sklearn.preprocessing import MinMaxScaler"
   ]
  },
  {
   "cell_type": "markdown",
   "metadata": {},
   "source": [
    "트랜스포머 구현 참고자료:\n",
    "- https://www.tensorflow.org/tutorials/text/transformer\n",
    "- http://jalammar.github.io/illustrated-transformer/"
   ]
  },
  {
   "cell_type": "code",
   "execution_count": 2,
   "metadata": {},
   "outputs": [],
   "source": [
    "files = [Path(x) for x in glob.glob('../data/raw_data/*/*.csv')]\n",
    "# files = [Path(x) for x in glob.glob('../../*/*.csv')]\n",
    "names = [f'{x.parent.name}_{x.stem}' for x in files]\n",
    "loca_types = [f'{x.parent.name[:7]}' for x in files]\n",
    "feature_cols = [40,46,47]"
   ]
  },
  {
   "cell_type": "code",
   "execution_count": 4,
   "metadata": {},
   "outputs": [],
   "source": [
    "def load_data(filepath, name):\n",
    "    df=pd.read_csv(filepath, header=None).astype(np.float32)\n",
    "    param = df.iloc[0][1:9]\n",
    "    param=param.to_dict()\n",
    "    param['name']=name\n",
    "\n",
    "    df_data = df[feature_cols]\n",
    "    df_data.columns = [f'col_{i}' for i in df_data.columns]\n",
    "    return param, df_data"
   ]
  },
  {
   "cell_type": "code",
   "execution_count": 7,
   "metadata": {},
   "outputs": [
    {
     "name": "stdout",
     "output_type": "stream",
     "text": [
      "Number of files:  6003\n"
     ]
    }
   ],
   "source": [
    "datasets = [(f,name) for f,name,loca_type in zip(files, names, loca_types)\n",
    "            if loca_type=='0.5inch' or loca_type=='1.0inch' or loca_type=='1.5inch']\n",
    "np.random.shuffle(datasets)\n",
    "print(\"Number of files: \", len(datasets))"
   ]
  },
  {
   "cell_type": "code",
   "execution_count": 8,
   "metadata": {},
   "outputs": [],
   "source": [
    "trainsets=datasets[:4800]\n",
    "valsets=datasets[4800:5400]\n",
    "testsets=datasets[5400:]"
   ]
  },
  {
   "cell_type": "code",
   "execution_count": 9,
   "metadata": {},
   "outputs": [
    {
     "name": "stdout",
     "output_type": "stream",
     "text": [
      "CPU times: user 5min 57s, sys: 46.2 s, total: 6min 43s\n",
      "Wall time: 6min 53s\n",
      "CPU times: user 42 s, sys: 5.18 s, total: 47.2 s\n",
      "Wall time: 48.5 s\n",
      "CPU times: user 42.3 s, sys: 4.81 s, total: 47.1 s\n",
      "Wall time: 48.4 s\n"
     ]
    }
   ],
   "source": [
    "%time traindata = [load_data(path,name) for path,name in trainsets]\n",
    "%time valdata = [load_data(path,name) for path,name in valsets]\n",
    "%time testdata = [load_data(path,name) for path,name in testsets]"
   ]
  },
  {
   "cell_type": "code",
   "execution_count": 10,
   "metadata": {},
   "outputs": [],
   "source": [
    "traindata = [(x[0], x[1][:10000]) for x in traindata if len(x[1])>=10000]\n",
    "valdata = [(x[0], x[1][:10000]) for x in valdata if len(x[1])>=10000]\n",
    "testdata = [(x[0], x[1][:10000]) for x in testdata if len(x[1])>=10000]"
   ]
  },
  {
   "cell_type": "code",
   "execution_count": 11,
   "metadata": {},
   "outputs": [],
   "source": [
    "train_features = pd.DataFrame([p for p,df in traindata]).set_index('name').add_prefix(\"param_\")\n",
    "train_labels = pd.concat([df for p,df in traindata])\n",
    "\n",
    "val_features = pd.DataFrame([p for p,df in valdata]).set_index('name').add_prefix(\"param_\")\n",
    "val_labels = pd.concat([df for p,df in valdata])\n",
    "\n",
    "test_features = pd.DataFrame([p for p,df in testdata]).set_index('name').add_prefix(\"param_\")\n",
    "test_labels = pd.concat([df for p,df in testdata])"
   ]
  },
  {
   "cell_type": "code",
   "execution_count": 18,
   "metadata": {},
   "outputs": [],
   "source": [
    "# train_features = pd.read_parquet('../data/raw.params.train.parquet')\n",
    "# train_labels = pd.read_parquet('../data/raw.graphs.train.parquet')"
   ]
  },
  {
   "cell_type": "code",
   "execution_count": 19,
   "metadata": {},
   "outputs": [
    {
     "data": {
      "text/plain": [
       "MinMaxScaler(copy=True, feature_range=(0, 1))"
      ]
     },
     "execution_count": 19,
     "metadata": {},
     "output_type": "execute_result"
    }
   ],
   "source": [
    "feature_scaler = MinMaxScaler()\n",
    "feature_scaler.fit(train_features)\n",
    "label_scaler = MinMaxScaler()\n",
    "label_scaler.fit(train_labels)"
   ]
  },
  {
   "cell_type": "code",
   "execution_count": 20,
   "metadata": {},
   "outputs": [],
   "source": [
    "def apply_scaler(df, scaler):\n",
    "    df_scaled=scaler.transform(df)\n",
    "    df_scaled=pd.DataFrame(df_scaled, index=df.index, columns=df.columns)\n",
    "    return df_scaled.astype(np.float32)"
   ]
  },
  {
   "cell_type": "code",
   "execution_count": 13,
   "metadata": {},
   "outputs": [],
   "source": [
    "train_features_scaled = apply_scaler(train_features, feature_scaler)\n",
    "val_features_scaled   = apply_scaler(val_features, feature_scaler)\n",
    "test_features_scaled  = apply_scaler(test_features, feature_scaler)\n",
    "\n",
    "train_labels_scaled = apply_scaler(train_labels, label_scaler)\n",
    "val_labels_scaled   = apply_scaler(val_labels, label_scaler)\n",
    "test_labels_scaled  = apply_scaler(test_labels, label_scaler)"
   ]
  },
  {
   "cell_type": "code",
   "execution_count": 14,
   "metadata": {},
   "outputs": [
    {
     "data": {
      "text/html": [
       "<div>\n",
       "<style scoped>\n",
       "    .dataframe tbody tr th:only-of-type {\n",
       "        vertical-align: middle;\n",
       "    }\n",
       "\n",
       "    .dataframe tbody tr th {\n",
       "        vertical-align: top;\n",
       "    }\n",
       "\n",
       "    .dataframe thead th {\n",
       "        text-align: right;\n",
       "    }\n",
       "</style>\n",
       "<table border=\"1\" class=\"dataframe\">\n",
       "  <thead>\n",
       "    <tr style=\"text-align: right;\">\n",
       "      <th></th>\n",
       "      <th>param_1</th>\n",
       "      <th>param_2</th>\n",
       "      <th>param_3</th>\n",
       "      <th>param_4</th>\n",
       "      <th>param_5</th>\n",
       "      <th>param_6</th>\n",
       "      <th>param_7</th>\n",
       "      <th>param_8</th>\n",
       "    </tr>\n",
       "    <tr>\n",
       "      <th>name</th>\n",
       "      <th></th>\n",
       "      <th></th>\n",
       "      <th></th>\n",
       "      <th></th>\n",
       "      <th></th>\n",
       "      <th></th>\n",
       "      <th></th>\n",
       "      <th></th>\n",
       "    </tr>\n",
       "  </thead>\n",
       "  <tbody>\n",
       "    <tr>\n",
       "      <th>1.0inch-#2000_csv_Run-1978</th>\n",
       "      <td>0.202015</td>\n",
       "      <td>0.202015</td>\n",
       "      <td>0.399885</td>\n",
       "      <td>0.600115</td>\n",
       "      <td>0.620863</td>\n",
       "      <td>0.160431</td>\n",
       "      <td>0.160431</td>\n",
       "      <td>0.0</td>\n",
       "    </tr>\n",
       "    <tr>\n",
       "      <th>0.5inch-#2000_csv_Run-1675</th>\n",
       "      <td>0.240198</td>\n",
       "      <td>0.240198</td>\n",
       "      <td>0.642439</td>\n",
       "      <td>0.357560</td>\n",
       "      <td>0.815345</td>\n",
       "      <td>0.179042</td>\n",
       "      <td>0.179042</td>\n",
       "      <td>0.0</td>\n",
       "    </tr>\n",
       "    <tr>\n",
       "      <th>1.0inch-#2000_csv_Run-1806</th>\n",
       "      <td>0.286265</td>\n",
       "      <td>0.286265</td>\n",
       "      <td>0.701312</td>\n",
       "      <td>0.298688</td>\n",
       "      <td>0.852294</td>\n",
       "      <td>0.215236</td>\n",
       "      <td>0.215236</td>\n",
       "      <td>0.0</td>\n",
       "    </tr>\n",
       "    <tr>\n",
       "      <th>1.5inch-#2000_csv_Run-1891</th>\n",
       "      <td>0.226914</td>\n",
       "      <td>0.226914</td>\n",
       "      <td>0.287934</td>\n",
       "      <td>0.712066</td>\n",
       "      <td>0.498429</td>\n",
       "      <td>0.065139</td>\n",
       "      <td>0.065139</td>\n",
       "      <td>0.0</td>\n",
       "    </tr>\n",
       "    <tr>\n",
       "      <th>1.5inch-#2000_csv_Run-478</th>\n",
       "      <td>0.277137</td>\n",
       "      <td>0.277138</td>\n",
       "      <td>0.461141</td>\n",
       "      <td>0.538859</td>\n",
       "      <td>0.677740</td>\n",
       "      <td>0.063758</td>\n",
       "      <td>0.063758</td>\n",
       "      <td>0.0</td>\n",
       "    </tr>\n",
       "  </tbody>\n",
       "</table>\n",
       "</div>"
      ],
      "text/plain": [
       "                             param_1   param_2   param_3   param_4   param_5  \\\n",
       "name                                                                           \n",
       "1.0inch-#2000_csv_Run-1978  0.202015  0.202015  0.399885  0.600115  0.620863   \n",
       "0.5inch-#2000_csv_Run-1675  0.240198  0.240198  0.642439  0.357560  0.815345   \n",
       "1.0inch-#2000_csv_Run-1806  0.286265  0.286265  0.701312  0.298688  0.852294   \n",
       "1.5inch-#2000_csv_Run-1891  0.226914  0.226914  0.287934  0.712066  0.498429   \n",
       "1.5inch-#2000_csv_Run-478   0.277137  0.277138  0.461141  0.538859  0.677740   \n",
       "\n",
       "                             param_6   param_7  param_8  \n",
       "name                                                     \n",
       "1.0inch-#2000_csv_Run-1978  0.160431  0.160431      0.0  \n",
       "0.5inch-#2000_csv_Run-1675  0.179042  0.179042      0.0  \n",
       "1.0inch-#2000_csv_Run-1806  0.215236  0.215236      0.0  \n",
       "1.5inch-#2000_csv_Run-1891  0.065139  0.065139      0.0  \n",
       "1.5inch-#2000_csv_Run-478   0.063758  0.063758      0.0  "
      ]
     },
     "execution_count": 14,
     "metadata": {},
     "output_type": "execute_result"
    }
   ],
   "source": [
    "train_features_scaled.head()"
   ]
  },
  {
   "cell_type": "code",
   "execution_count": 15,
   "metadata": {},
   "outputs": [
    {
     "data": {
      "text/html": [
       "<div>\n",
       "<style scoped>\n",
       "    .dataframe tbody tr th:only-of-type {\n",
       "        vertical-align: middle;\n",
       "    }\n",
       "\n",
       "    .dataframe tbody tr th {\n",
       "        vertical-align: top;\n",
       "    }\n",
       "\n",
       "    .dataframe thead th {\n",
       "        text-align: right;\n",
       "    }\n",
       "</style>\n",
       "<table border=\"1\" class=\"dataframe\">\n",
       "  <thead>\n",
       "    <tr style=\"text-align: right;\">\n",
       "      <th></th>\n",
       "      <th>col_40</th>\n",
       "      <th>col_46</th>\n",
       "      <th>col_47</th>\n",
       "    </tr>\n",
       "  </thead>\n",
       "  <tbody>\n",
       "    <tr>\n",
       "      <th>0</th>\n",
       "      <td>0.995508</td>\n",
       "      <td>1.0</td>\n",
       "      <td>0.122066</td>\n",
       "    </tr>\n",
       "    <tr>\n",
       "      <th>1</th>\n",
       "      <td>0.993052</td>\n",
       "      <td>1.0</td>\n",
       "      <td>0.121121</td>\n",
       "    </tr>\n",
       "    <tr>\n",
       "      <th>2</th>\n",
       "      <td>0.990525</td>\n",
       "      <td>1.0</td>\n",
       "      <td>0.121057</td>\n",
       "    </tr>\n",
       "    <tr>\n",
       "      <th>3</th>\n",
       "      <td>0.990033</td>\n",
       "      <td>1.0</td>\n",
       "      <td>0.120934</td>\n",
       "    </tr>\n",
       "    <tr>\n",
       "      <th>4</th>\n",
       "      <td>0.990525</td>\n",
       "      <td>1.0</td>\n",
       "      <td>0.120940</td>\n",
       "    </tr>\n",
       "  </tbody>\n",
       "</table>\n",
       "</div>"
      ],
      "text/plain": [
       "     col_40  col_46    col_47\n",
       "0  0.995508     1.0  0.122066\n",
       "1  0.993052     1.0  0.121121\n",
       "2  0.990525     1.0  0.121057\n",
       "3  0.990033     1.0  0.120934\n",
       "4  0.990525     1.0  0.120940"
      ]
     },
     "execution_count": 15,
     "metadata": {},
     "output_type": "execute_result"
    }
   ],
   "source": [
    "train_labels_scaled.head()"
   ]
  },
  {
   "cell_type": "code",
   "execution_count": 16,
   "metadata": {},
   "outputs": [],
   "source": [
    "train_features_scaled.to_parquet('../data/params.train.parquet')\n",
    "val_features_scaled.to_parquet('../data/params.val.parquet')\n",
    "test_features_scaled.to_parquet('../data/params.test.parquet')\n",
    "\n",
    "train_labels_scaled.to_parquet('../data/graphs.train.parquet')\n",
    "val_labels_scaled.to_parquet('../data/graphs.val.parquet')\n",
    "test_labels_scaled.to_parquet('../data/graphs.test.parquet')"
   ]
  },
  {
   "cell_type": "code",
   "execution_count": 17,
   "metadata": {},
   "outputs": [],
   "source": [
    "train_features.to_parquet('../data/raw.params.train.parquet')\n",
    "val_features.to_parquet('../data/raw.params.val.parquet')\n",
    "test_features.to_parquet('../data/raw.params.test.parquet')\n",
    "\n",
    "train_labels.to_parquet('../data/raw.graphs.train.parquet')\n",
    "val_labels.to_parquet('../data/raw.graphs.val.parquet')\n",
    "test_labels.to_parquet('../data/raw.graphs.test.parquet')"
   ]
  },
  {
   "cell_type": "code",
   "execution_count": 41,
   "metadata": {},
   "outputs": [
    {
     "name": "stdout",
     "output_type": "stream",
     "text": [
      "Number of non-0.5,1.0,1.5 inch data:  404\n"
     ]
    }
   ],
   "source": [
    "extsets = [(f,name) for f,name,loca_type in zip(files, names, loca_types)\n",
    "            if loca_type!='0.5inch' and loca_type!='1.0inch' and loca_type!='1.5inch' and loca_type!='2.0inch' ]\n",
    "np.random.shuffle(extsets)\n",
    "print(\"Number of non-0.5,1.0,1.5 inch data: \", len(extsets))"
   ]
  },
  {
   "cell_type": "code",
   "execution_count": 42,
   "metadata": {},
   "outputs": [
    {
     "name": "stdout",
     "output_type": "stream",
     "text": [
      "CPU times: user 15 s, sys: 2.3 s, total: 17.3 s\n",
      "Wall time: 17.7 s\n"
     ]
    }
   ],
   "source": [
    "%time extdata = [load_data(path,name) for path,name in extsets]"
   ]
  },
  {
   "cell_type": "code",
   "execution_count": 43,
   "metadata": {},
   "outputs": [],
   "source": [
    "extdata = [(x[0], x[1][:10000]) for x in extdata if len(x[1])>=10000]\n",
    "print(len(extdata))"
   ]
  },
  {
   "cell_type": "code",
   "execution_count": 45,
   "metadata": {},
   "outputs": [],
   "source": [
    "ext_features = pd.DataFrame([p for p,df in extdata]).set_index('name').add_prefix(\"param_\")\n",
    "ext_labels   = pd.concat([df for p,df in extdata])"
   ]
  },
  {
   "cell_type": "code",
   "execution_count": 46,
   "metadata": {},
   "outputs": [],
   "source": [
    "ext_features_scaled = apply_scaler(ext_features, feature_scaler)\n",
    "ext_labels_scaled = apply_scaler(ext_labels, label_scaler)"
   ]
  },
  {
   "cell_type": "code",
   "execution_count": 47,
   "metadata": {},
   "outputs": [],
   "source": [
    "ext_features_scaled.to_parquet('../data/params.ext.parquet')\n",
    "ext_labels_scaled.to_parquet('../data/graphs.ext.parquet')\n",
    "\n",
    "ext_features.to_parquet('../data/raw.params.ext.parquet')\n",
    "ext_labels.to_parquet('../data/raw.graphs.ext.parquet')"
   ]
  }
 ],
 "metadata": {
  "kernelspec": {
   "display_name": "Python 3",
   "language": "python",
   "name": "python3"
  },
  "language_info": {
   "codemirror_mode": {
    "name": "ipython",
    "version": 3
   },
   "file_extension": ".py",
   "mimetype": "text/x-python",
   "name": "python",
   "nbconvert_exporter": "python",
   "pygments_lexer": "ipython3",
   "version": "3.6.9"
  }
 },
 "nbformat": 4,
 "nbformat_minor": 2
}
